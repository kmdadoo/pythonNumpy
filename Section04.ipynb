{
  "nbformat": 4,
  "nbformat_minor": 0,
  "metadata": {
    "colab": {
      "provenance": [],
      "authorship_tag": "ABX9TyOZ4rETWNfO3fH3NsHEn6Qy",
      "include_colab_link": true
    },
    "kernelspec": {
      "name": "python3",
      "display_name": "Python 3"
    },
    "language_info": {
      "name": "python"
    }
  },
  "cells": [
    {
      "cell_type": "markdown",
      "metadata": {
        "id": "view-in-github",
        "colab_type": "text"
      },
      "source": [
        "<a href=\"https://colab.research.google.com/github/kmdadoo/pythonNumpy/blob/main/Section04.ipynb\" target=\"_parent\"><img src=\"https://colab.research.google.com/assets/colab-badge.svg\" alt=\"Open In Colab\"/></a>"
      ]
    },
    {
      "cell_type": "code",
      "execution_count": null,
      "metadata": {
        "id": "MP7LQBu-wSEd"
      },
      "outputs": [],
      "source": [
        "import numpy as np"
      ]
    },
    {
      "cell_type": "markdown",
      "metadata": {
        "id": "jEjyU4vJyKNI"
      },
      "source": [
        "# Section 4. N차원 배열 정렬\n",
        "\n",
        "---\n",
        "\n"
      ]
    },
    {
      "cell_type": "markdown",
      "metadata": {
        "id": "5BCqSDdu6ps4"
      },
      "source": [
        "###**4-1. 1차원 배열의 정렬**"
      ]
    },
    {
      "cell_type": "code",
      "source": [
        "arr = np.random.randint(10, size=10)\n",
        "print(arr)"
      ],
      "metadata": {
        "colab": {
          "base_uri": "https://localhost:8080/"
        },
        "id": "RxjRNCyLMexO",
        "outputId": "46ae301e-eace-4f71-d860-f0e29d1275f7"
      },
      "execution_count": null,
      "outputs": [
        {
          "output_type": "stream",
          "name": "stdout",
          "text": [
            "[9 5 8 1 9 8 1 9 0 2]\n"
          ]
        }
      ]
    },
    {
      "cell_type": "code",
      "metadata": {
        "id": "Avl4eyS30Gbm",
        "colab": {
          "base_uri": "https://localhost:8080/"
        },
        "outputId": "af5706ec-545f-494d-ab93-a0832056ef28"
      },
      "source": [
        "# 1차원 배열 오름차순 정렬하기\n",
        "print(np.sort(arr))"
      ],
      "execution_count": null,
      "outputs": [
        {
          "output_type": "stream",
          "name": "stdout",
          "text": [
            "[0 1 1 2 5 8 8 9 9 9]\n"
          ]
        }
      ]
    },
    {
      "cell_type": "code",
      "source": [
        "# 1차원 배열 내림차순 정렬하기\n",
        "print(np.sort(arr)[::-1]) # 처음부터 끝까지 마이너스 한칸 간격으로 인덱싱 해주는 것"
      ],
      "metadata": {
        "colab": {
          "base_uri": "https://localhost:8080/"
        },
        "id": "x33ZMnDOMdcM",
        "outputId": "92695237-f32d-4172-a53a-316fbb8e0c9b"
      },
      "execution_count": null,
      "outputs": [
        {
          "output_type": "stream",
          "name": "stdout",
          "text": [
            "[9 9 9 8 8 5 2 1 1 0]\n"
          ]
        }
      ]
    },
    {
      "cell_type": "code",
      "source": [
        "# 값을 유지 하려면\n",
        "arr1 = np.random.randint(10, size=10)\n",
        "print(arr1)\n",
        "arr1 = np.sort(arr1) # 변수에 새로 할당 해 주거나\n",
        "print(arr1)\n",
        "\n",
        "arr2 = np.random.randint(10, size=10)\n",
        "print(arr2)\n",
        "arr2.sort() # 재정의 된 sort()함수를 이용해서 출력\n",
        "print(arr2)"
      ],
      "metadata": {
        "colab": {
          "base_uri": "https://localhost:8080/"
        },
        "id": "tPhoVOgaNK5x",
        "outputId": "c4e72911-f250-42f1-e90a-f72af527b4d9"
      },
      "execution_count": null,
      "outputs": [
        {
          "output_type": "stream",
          "name": "stdout",
          "text": [
            "[4 7 7 6 3 3 2 9 5 2]\n",
            "[2 2 3 3 4 5 6 7 7 9]\n",
            "[6 5 2 7 8 9 1 8 4 6]\n",
            "[1 2 4 5 6 6 7 8 8 9]\n"
          ]
        }
      ]
    },
    {
      "cell_type": "markdown",
      "metadata": {
        "id": "IlLUWwUY6wNb"
      },
      "source": [
        "###**4-2. 2차원 배열의 정렬**"
      ]
    },
    {
      "cell_type": "code",
      "source": [
        "arr = np.random.randint(15, size=(3, 4))\n",
        "print(arr)"
      ],
      "metadata": {
        "colab": {
          "base_uri": "https://localhost:8080/"
        },
        "id": "YJMJassgO4Vx",
        "outputId": "750d14ae-f0ed-45bf-cde8-fd1c08c5f514"
      },
      "execution_count": null,
      "outputs": [
        {
          "output_type": "stream",
          "name": "stdout",
          "text": [
            "[[11  7  4 13]\n",
            " [ 8  5 10  7]\n",
            " [ 4 10  7  8]]\n"
          ]
        }
      ]
    },
    {
      "cell_type": "code",
      "metadata": {
        "id": "bmv88Q-j6yAj",
        "colab": {
          "base_uri": "https://localhost:8080/"
        },
        "outputId": "781564ad-1a3a-415d-dcb5-b1176784b55b"
      },
      "source": [
        "# 2차원 배열 row 기준 정렬하기 : 기본 정렬임.\n",
        "print(np.sort(arr))"
      ],
      "execution_count": null,
      "outputs": [
        {
          "output_type": "stream",
          "name": "stdout",
          "text": [
            "[[ 4  7 11 13]\n",
            " [ 5  7  8 10]\n",
            " [ 4  7  8 10]]\n"
          ]
        }
      ]
    },
    {
      "cell_type": "code",
      "source": [
        "# 2차원 배열 column 기준 정렬하기\n",
        "print(np.sort(arr, axis=0))"
      ],
      "metadata": {
        "colab": {
          "base_uri": "https://localhost:8080/"
        },
        "id": "rvyHcpt_OzNP",
        "outputId": "f7b0c170-069a-41bd-c53c-8fc9041fef44"
      },
      "execution_count": null,
      "outputs": [
        {
          "output_type": "stream",
          "name": "stdout",
          "text": [
            "[[ 4  5  4  7]\n",
            " [ 8  7  7  8]\n",
            " [11 10 10 13]]\n"
          ]
        }
      ]
    },
    {
      "cell_type": "code",
      "source": [
        "# 1차원 배열로 변경하여 전체 배열 정렬하기\n",
        "print(np.sort(arr, axis=None))"
      ],
      "metadata": {
        "colab": {
          "base_uri": "https://localhost:8080/"
        },
        "id": "1w5G81QYO1Bc",
        "outputId": "77af9006-1b08-4c67-86a6-0f2c7df85803"
      },
      "execution_count": null,
      "outputs": [
        {
          "output_type": "stream",
          "name": "stdout",
          "text": [
            "[ 4  4  5  7  7  7  8  8 10 10 11 13]\n"
          ]
        }
      ]
    },
    {
      "cell_type": "code",
      "metadata": {
        "id": "cn4so_6M_g5I",
        "colab": {
          "base_uri": "https://localhost:8080/"
        },
        "outputId": "62135e35-3c65-4d3b-8cee-8d2aa0864d0a"
      },
      "source": [
        "# 배열을 정렬할 index 출력하기 : argsort()\n",
        "arr = np.random.randint(15, size=(3, 4))\n",
        "print(arr)\n",
        "print(np.sort(arr, axis=1))\n",
        "print(np.argsort(arr, axis=1))  # 원래 자기 행의 위치의 인덱스를 출력"
      ],
      "execution_count": null,
      "outputs": [
        {
          "output_type": "stream",
          "name": "stdout",
          "text": [
            "[[ 1  3 14  2]\n",
            " [ 6  4  6  5]\n",
            " [ 2 14  3 11]]\n",
            "[[ 1  2  3 14]\n",
            " [ 4  5  6  6]\n",
            " [ 2  3 11 14]]\n",
            "[[0 3 1 2]\n",
            " [1 3 0 2]\n",
            " [0 2 3 1]]\n"
          ]
        }
      ]
    },
    {
      "cell_type": "code",
      "source": [
        "# 배열을 정렬할 index 출력하기 : argsort()\n",
        "arr = np.random.randint(15, size=(3, 4))\n",
        "print(arr)\n",
        "print(np.sort(arr, axis=0))\n",
        "print(np.argsort(arr, axis=0))  # 원래 자기 열의 위치의 인덱스를 출력"
      ],
      "metadata": {
        "id": "kgmA5tCHQhwO",
        "outputId": "ffe3e696-459b-4b72-d55d-da2533e4ad6c",
        "colab": {
          "base_uri": "https://localhost:8080/"
        }
      },
      "execution_count": null,
      "outputs": [
        {
          "output_type": "stream",
          "name": "stdout",
          "text": [
            "[[ 6  1 11  4]\n",
            " [ 0 10  6 12]\n",
            " [ 4  0 13  7]]\n",
            "[[ 0  0  6  4]\n",
            " [ 4  1 11  7]\n",
            " [ 6 10 13 12]]\n",
            "[[1 2 1 0]\n",
            " [2 0 0 2]\n",
            " [0 1 2 1]]\n"
          ]
        }
      ]
    }
  ]
}