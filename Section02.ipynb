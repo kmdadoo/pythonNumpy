{
  "nbformat": 4,
  "nbformat_minor": 0,
  "metadata": {
    "colab": {
      "provenance": [],
      "authorship_tag": "ABX9TyMIud5YJ/t2Mz/jiWTy6/OH",
      "include_colab_link": true
    },
    "kernelspec": {
      "name": "python3",
      "display_name": "Python 3"
    },
    "language_info": {
      "name": "python"
    }
  },
  "cells": [
    {
      "cell_type": "markdown",
      "metadata": {
        "id": "view-in-github",
        "colab_type": "text"
      },
      "source": [
        "<a href=\"https://colab.research.google.com/github/kmdadoo/pythonNumpy/blob/main/Section02.ipynb\" target=\"_parent\"><img src=\"https://colab.research.google.com/assets/colab-badge.svg\" alt=\"Open In Colab\"/></a>"
      ]
    },
    {
      "cell_type": "markdown",
      "metadata": {
        "id": "UR-RDctk70Rv"
      },
      "source": [
        "# Section 2. N차원 배열의 인덱싱\n",
        "---\n",
        "\n"
      ]
    },
    {
      "cell_type": "code",
      "source": [
        "import numpy as np"
      ],
      "metadata": {
        "id": "o076O9PtkMYf"
      },
      "execution_count": 1,
      "outputs": []
    },
    {
      "cell_type": "markdown",
      "metadata": {
        "id": "9vCxyMts8Ms5"
      },
      "source": [
        "###**2-1. 배열의 index 접근하기**"
      ]
    },
    {
      "cell_type": "code",
      "metadata": {
        "id": "NQtPOm3L88qR",
        "colab": {
          "base_uri": "https://localhost:8080/"
        },
        "outputId": "c5058b16-165d-4cb4-f78f-267b358b73f2"
      },
      "source": [
        "# 1차원 배열 인덱스 접근하기 - 배열의 몇번째 값이 뭔지 혹은 특정 범위의 갑싱 어더한 것이 있는 탐색하는 과정\n",
        "# arr = np.array([0, 1, 2, 3, 4, 5, 6, 7, 8, 9])\n",
        "arr = np.arange(10)\n",
        "print(arr)\n",
        "# 점근하기\n",
        "print(arr[3]) # 인덱스 3의 값\n",
        "print(arr[1])\n",
        "# print(arr[10]) # 존재하지 않으므로 에러남.\n",
        "print(arr[-1]) # 뒤로 돌아가므로 9가 나옴.\n",
        "print(arr[-10]) # 자기자신이 출력됨."
      ],
      "execution_count": 11,
      "outputs": [
        {
          "output_type": "stream",
          "name": "stdout",
          "text": [
            "[0 1 2 3 4 5 6 7 8 9]\n",
            "3\n",
            "1\n",
            "9\n",
            "0\n"
          ]
        }
      ]
    },
    {
      "cell_type": "code",
      "source": [
        "# 1차원 배열에서 범위 값 탐색하기\n",
        "arr = np.array([0, 1, 2, 3, 4, 5, 6, 7, 8, 9])\n",
        "print(arr[3:8]) # 3부터 8미만까지 출력됨\n",
        "print(arr[3:]) # 3부터 모든 원소 출력\n",
        "print(arr[:7]) # 7미만까지의 모든 값 출력\n",
        "print(arr[:-1]) # 9 미만까지의 모든 값 출력"
      ],
      "metadata": {
        "colab": {
          "base_uri": "https://localhost:8080/"
        },
        "id": "UulZiikJmSG9",
        "outputId": "bd983d86-0a8b-44d9-933f-5f3612150f59"
      },
      "execution_count": 19,
      "outputs": [
        {
          "output_type": "stream",
          "name": "stdout",
          "text": [
            "[3 4 5 6 7]\n",
            "[3 4 5 6 7 8 9]\n",
            "[0 1 2 3 4 5 6]\n",
            "[0 1 2 3 4 5 6 7 8]\n"
          ]
        }
      ]
    },
    {
      "cell_type": "code",
      "metadata": {
        "id": "5H9EjM-J-jll",
        "colab": {
          "base_uri": "https://localhost:8080/"
        },
        "outputId": "7250f72a-a87d-4995-9193-2fbe1ec48363"
      },
      "source": [
        "# 2차원 배열 인덱스 접근하기\n",
        "arr = np.array([[1, 2, 3, 4],\n",
        "                [5, 6, 7, 8],\n",
        "                [9, 10, 11, 12]])\n",
        "print(arr, arr.shape, arr.ndim)  # 3X4 배열이고 2차원 배열이다\n",
        "# 점근하기\n",
        "print(arr[0][3])  # 4"
      ],
      "execution_count": 13,
      "outputs": [
        {
          "output_type": "stream",
          "name": "stdout",
          "text": [
            "[[ 1  2  3  4]\n",
            " [ 5  6  7  8]\n",
            " [ 9 10 11 12]] (3, 4) 2\n",
            "4\n"
          ]
        }
      ]
    },
    {
      "cell_type": "code",
      "source": [
        "# 2차원 배열에서 범위 값 탐색하기\n",
        "arr = np.array([[1, 2, 3, 4],\n",
        "                [5, 6, 7, 8],\n",
        "                [9, 10, 11, 12]])\n",
        "print(arr[0, :])  # 0번째행의 모든 열의 값\n",
        "print(arr[:,1]) # 1번째 열의 값 출력\n",
        "print(arr[:3, :]) # 0부터 3미만의 행에서 모든 열의 값. 즉 모든 값\n",
        "print(arr[:2, 2:]) # 0부터 2미만의 행에서 2열부터 마지막 열까지의 값 출력"
      ],
      "metadata": {
        "colab": {
          "base_uri": "https://localhost:8080/"
        },
        "id": "2Arl6NqbnKg2",
        "outputId": "2726cf87-6133-4667-e00f-b844148e4e56"
      },
      "execution_count": 26,
      "outputs": [
        {
          "output_type": "stream",
          "name": "stdout",
          "text": [
            "[1 2 3 4]\n",
            "[ 2  6 10]\n",
            "[[ 1  2  3  4]\n",
            " [ 5  6  7  8]\n",
            " [ 9 10 11 12]]\n",
            "[[3 4]\n",
            " [7 8]]\n"
          ]
        }
      ]
    },
    {
      "cell_type": "markdown",
      "metadata": {
        "id": "BRRFVk0_Cldw"
      },
      "source": [
        "###**2-2. 배열의 Fancy 인덱싱**"
      ]
    },
    {
      "cell_type": "code",
      "metadata": {
        "id": "nvbf72jyC8r4"
      },
      "source": [
        "# 1차원 배열에서의 Fancy 인덱싱\n",
        "\n",
        "# 2차원 배열에서의 Fancy 인덱싱\n"
      ],
      "execution_count": null,
      "outputs": []
    },
    {
      "cell_type": "markdown",
      "metadata": {
        "id": "LBCsd547E41L"
      },
      "source": [
        "###**2-3. 배열의 Boolean 인덱싱**"
      ]
    },
    {
      "cell_type": "code",
      "metadata": {
        "id": "BanXYbmhE9c1"
      },
      "source": [
        "# Boolean 값을 이용한 배열 인덱싱\n",
        "\n",
        "# 조건 연산자를 활용하여 조건에 맞는 배열의 값만 출력하기\n"
      ],
      "execution_count": null,
      "outputs": []
    }
  ]
}