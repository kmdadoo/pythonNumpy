{
  "nbformat": 4,
  "nbformat_minor": 0,
  "metadata": {
    "colab": {
      "provenance": [],
      "authorship_tag": "ABX9TyPCVJAMmYcsc+7NuWLTClrs",
      "include_colab_link": true
    },
    "kernelspec": {
      "name": "python3",
      "display_name": "Python 3"
    },
    "language_info": {
      "name": "python"
    }
  },
  "cells": [
    {
      "cell_type": "markdown",
      "metadata": {
        "id": "view-in-github",
        "colab_type": "text"
      },
      "source": [
        "<a href=\"https://colab.research.google.com/github/kmdadoo/pythonNumpy/blob/main/Section07.ipynb\" target=\"_parent\"><img src=\"https://colab.research.google.com/assets/colab-badge.svg\" alt=\"Open In Colab\"/></a>"
      ]
    },
    {
      "cell_type": "markdown",
      "metadata": {
        "id": "2Mscz4k2Mjla"
      },
      "source": [
        "# Section 7. 실습 예제\n",
        "\n",
        "---\n",
        "\n"
      ]
    },
    {
      "cell_type": "markdown",
      "metadata": {
        "id": "5k_ZnN1QM4cN"
      },
      "source": [
        "###**7-1. 실습 예제 1~3**"
      ]
    },
    {
      "cell_type": "code",
      "metadata": {
        "id": "rkBXHqdbPA6k"
      },
      "source": [
        "import numpy as np"
      ],
      "execution_count": null,
      "outputs": []
    },
    {
      "cell_type": "markdown",
      "metadata": {
        "id": "wTXUGhUWPX91"
      },
      "source": [
        "**<예제 1>** 원소가 모두 3인 (3, 4, 5) 형태의 numpy.array를 출력하시오."
      ]
    },
    {
      "cell_type": "code",
      "metadata": {
        "id": "OMPs6EelNEGi",
        "colab": {
          "base_uri": "https://localhost:8080/"
        },
        "outputId": "b40881c4-47fb-4b64-f26f-ba71f0a7a274"
      },
      "source": [
        "# 답안 작성 (제한 시간 : 20초)\n",
        "arr = np.full((3, 4, 5), 3)\n",
        "print(arr)"
      ],
      "execution_count": null,
      "outputs": [
        {
          "output_type": "stream",
          "name": "stdout",
          "text": [
            "[[[3 3 3 3 3]\n",
            "  [3 3 3 3 3]\n",
            "  [3 3 3 3 3]\n",
            "  [3 3 3 3 3]]\n",
            "\n",
            " [[3 3 3 3 3]\n",
            "  [3 3 3 3 3]\n",
            "  [3 3 3 3 3]\n",
            "  [3 3 3 3 3]]\n",
            "\n",
            " [[3 3 3 3 3]\n",
            "  [3 3 3 3 3]\n",
            "  [3 3 3 3 3]\n",
            "  [3 3 3 3 3]]]\n"
          ]
        }
      ]
    },
    {
      "cell_type": "markdown",
      "metadata": {
        "id": "n1bZJ0ZqPTm-"
      },
      "source": [
        "**<예제 2>** 정수 -50 ~ 50의 범위 안의 난수로 이루어진 (4, 5) 형태의 numpy.array를 출력하고 행을 기준으로 오름차순 정렬한 결과와 전체 배열을 1차원 배열로 변경하여 오름차순 정렬한 결과를 출력하시오."
      ]
    },
    {
      "cell_type": "code",
      "metadata": {
        "id": "MyHCkVLOOiD7",
        "colab": {
          "base_uri": "https://localhost:8080/"
        },
        "outputId": "e3a333c3-8cb0-4acc-865c-547196f0d653"
      },
      "source": [
        "# 답안 작성 (제한 시간 : 60초)\n",
        "# array 작성\n",
        "arr = np.random.randint(-50, 50, (4, 5))\n",
        "print(arr)\n",
        "# 행을 기준으로 정렬한 결과 작성\n",
        "print(np.sort(arr, axis=0))\n",
        "# 1차원 배열로 변경하여 정렬한 결과 작성\n",
        "print(np.sort(arr, axis=None))"
      ],
      "execution_count": null,
      "outputs": [
        {
          "output_type": "stream",
          "name": "stdout",
          "text": [
            "[[-13  15 -16  34  28]\n",
            " [-24 -30  -4 -32  10]\n",
            " [ -2  20  -4 -42   6]\n",
            " [  2 -35 -25 -46  10]]\n",
            "[[-24 -35 -25 -46   6]\n",
            " [-13 -30 -16 -42  10]\n",
            " [ -2  15  -4 -32  10]\n",
            " [  2  20  -4  34  28]]\n",
            "[-46 -42 -35 -32 -30 -25 -24 -16 -13  -4  -4  -2   2   6  10  10  15  20\n",
            "  28  34]\n"
          ]
        }
      ]
    },
    {
      "cell_type": "markdown",
      "metadata": {
        "id": "XFzgr412S6fu"
      },
      "source": [
        "**<예제 3>** 다음과 같은 파이썬 list가 존재한다. list안에 있는 각 numpy.array의 원소들의 평균값과 표준편차, 중앙값을 순서대로 구하여 구한 순서대로 원소가 이루어진 새로운 list를 구성하고 출력하시오.\n",
        "\n",
        "- 예시 : 각 배열의 평균값이 3.0, 4.0, 5.0이고 표준편차가 1.5, 1.7, 1.9이며 중앙값이 1.0, 2.0, 3.0 이라면 배열로 구성하여 [3.0, 1.5, 1.0, 4.0, 1.7, 2.0, 5.0, 1.9, 3.0] 으로 출력한다."
      ]
    },
    {
      "cell_type": "code",
      "metadata": {
        "id": "YMS2zz__TGfW",
        "colab": {
          "base_uri": "https://localhost:8080/"
        },
        "outputId": "41237f25-db51-4523-8306-8e56c575f961"
      },
      "source": [
        "py_list = [\n",
        "    np.full(3, 8),\n",
        "    np.array([33, -15, 26]),\n",
        "    np.linspace(17, 26, 3)\n",
        "]\n",
        "\n",
        "# 답안 작성 (제한 시간 : 50초)\n",
        "result_arr = []\n",
        "for i in py_list:\n",
        "  result_arr.append(np.mean(i))\n",
        "  result_arr.append(np.std(i))\n",
        "  result_arr.append(np.median(i))\n",
        "print(result_arr)"
      ],
      "execution_count": null,
      "outputs": [
        {
          "output_type": "stream",
          "name": "stdout",
          "text": [
            "[8.0, 0.0, 8.0, 14.666666666666666, 21.171259344267224, 26.0, 21.5, 3.6742346141747673, 21.5]\n"
          ]
        }
      ]
    },
    {
      "cell_type": "markdown",
      "metadata": {
        "id": "nP-BjKfoaO2A"
      },
      "source": [
        "###**7-2. 실습 예제 4~6**"
      ]
    },
    {
      "cell_type": "markdown",
      "metadata": {
        "id": "I6fj9c_taeW8"
      },
      "source": [
        "**<예제 4>** 다음과 같은 numpy.array가 존재한다. 이 배열을 행을 기준으로 3개의 배열로 분할하여 분할된 각 배열의 원소들을 제곱한 결과를 다시 원본 배열에 행을 기준으로 병합하시오. (단, 마지막 출력 결과는 원본 배열과 차원이 같아야 한다)"
      ]
    },
    {
      "cell_type": "code",
      "metadata": {
        "colab": {
          "base_uri": "https://localhost:8080/"
        },
        "id": "jw7RDVQ1aQn4",
        "outputId": "29576fc6-c4cf-43cb-9581-7b93771d4395"
      },
      "source": [
        "arr = np.arange(2, 20, 2).reshape((3, 3))\n",
        "print(arr)\n",
        "\n",
        "# 답안 작성 (제한 시간 : 90초)\n",
        "s1 = np.vsplit(arr, 3)\n",
        "print(s1)\n",
        "s2 = np.square(s1)\n",
        "print(s2)\n",
        "s3 = np.squeeze(s2, axis=1)\n",
        "print(s3)\n",
        "result_arr = np.vstack((arr, s3))\n",
        "print(result_arr)"
      ],
      "execution_count": null,
      "outputs": [
        {
          "output_type": "stream",
          "name": "stdout",
          "text": [
            "[[ 2  4  6]\n",
            " [ 8 10 12]\n",
            " [14 16 18]]\n",
            "[array([[2, 4, 6]]), array([[ 8, 10, 12]]), array([[14, 16, 18]])]\n",
            "[[[  4  16  36]]\n",
            "\n",
            " [[ 64 100 144]]\n",
            "\n",
            " [[196 256 324]]]\n",
            "[[  4  16  36]\n",
            " [ 64 100 144]\n",
            " [196 256 324]]\n",
            "[[  2   4   6]\n",
            " [  8  10  12]\n",
            " [ 14  16  18]\n",
            " [  4  16  36]\n",
            " [ 64 100 144]\n",
            " [196 256 324]]\n"
          ]
        }
      ]
    },
    {
      "cell_type": "markdown",
      "metadata": {
        "id": "ZLWy8JDOPVps"
      },
      "source": [
        "**<예제 5>** 삼각함수의 특수각(0deg, 30deg, 60deg, 90deg)을 numpy.array로 생성한 후 특수각에 해당하는 sin, cos, tan 값을 각각 구하여 파이썬 list에 담은 다음 해당 list에 들어있는 값들을 출력하시오. (단, 값이 무한대라면 \"INF\" 문자열을 출력할 것)"
      ]
    },
    {
      "cell_type": "code",
      "metadata": {
        "id": "Re_fUv6uPVFf",
        "colab": {
          "base_uri": "https://localhost:8080/"
        },
        "outputId": "a1c87510-fa05-46c4-9f1a-d7d817b3919b"
      },
      "source": [
        "# 답안 작성 (제한 시간 : 120초)\n",
        "# numpy의 삼각함수는 radian 값을 사용하기 때문에 degree를 radian으로 변경해야합니다.<degree * PI / 180 >\n",
        "arr = np.arange(0, 91, 30)\n",
        "print(arr)\n",
        "\n",
        "lst = []\n",
        "lst.append(np.sin(arr * np.pi / 180))\n",
        "lst.append(np.cos(arr * np.pi / 180))\n",
        "lst.append(np.tan(arr * np.pi / 180))\n",
        "\n",
        "for value_lst in lst:\n",
        "  for value in value_lst:\n",
        "    if value > 999999999:\n",
        "      print(\"INF\")\n",
        "      continue;\n",
        "    print(value)\n",
        "  print()"
      ],
      "execution_count": null,
      "outputs": [
        {
          "output_type": "stream",
          "name": "stdout",
          "text": [
            "[ 0 30 60 90]\n",
            "0.0\n",
            "0.49999999999999994\n",
            "0.8660254037844386\n",
            "1.0\n",
            "\n",
            "1.0\n",
            "0.8660254037844387\n",
            "0.5000000000000001\n",
            "6.123233995736766e-17\n",
            "\n",
            "0.0\n",
            "0.5773502691896257\n",
            "1.7320508075688767\n",
            "INF\n",
            "\n"
          ]
        }
      ]
    },
    {
      "cell_type": "markdown",
      "metadata": {
        "id": "pJfpNqq8JR-I"
      },
      "source": [
        "**<예제 6>** numpy.array를 이용하여 다음과 같은 패턴을 출력하시오. (단, 출력 시 반복문을 사용하여 출력한다)\n",
        "\n",
        "\n",
        "---\n",
        "\n",
        "\n",
        "0 1 0 1 0 1 0   \n",
        "1 0 1 0 1 0 1   \n",
        "0 1 0 1 0 1 0   \n",
        "1 0 1 0 1 0 1   \n",
        "0 1 0 1 0 1 0   \n",
        "1 0 1 0 1 0 1   \n",
        "0 1 0 1 0 1 0"
      ]
    },
    {
      "cell_type": "code",
      "metadata": {
        "id": "cnmUwYbuJVNe",
        "colab": {
          "base_uri": "https://localhost:8080/"
        },
        "outputId": "e564a8c5-28f5-4640-f98a-8ac3044194a1"
      },
      "source": [
        "# 답안 작성 (제한 시간 : 120초)\n",
        "arr = np.zeros((7, 7), dtype=int)\n",
        "#arr = np.full((7, 7), 0) # 동일한 배열이 출력됨. 둘중에 아무거나 사용\n",
        "print(arr)\n",
        "\n",
        "arr[::2, 1::2] = 1 # 홀수 행\n",
        "arr[1::2, ::2] = 1 # 짝수 행\n",
        "\n",
        "for row in range(7):\n",
        "  for col in range(7):\n",
        "    print(arr[row, col], end=\" \")\n",
        "  print()"
      ],
      "execution_count": null,
      "outputs": [
        {
          "output_type": "stream",
          "name": "stdout",
          "text": [
            "[[0 0 0 0 0 0 0]\n",
            " [0 0 0 0 0 0 0]\n",
            " [0 0 0 0 0 0 0]\n",
            " [0 0 0 0 0 0 0]\n",
            " [0 0 0 0 0 0 0]\n",
            " [0 0 0 0 0 0 0]\n",
            " [0 0 0 0 0 0 0]]\n",
            "0 1 0 1 0 1 0 \n",
            "1 0 1 0 1 0 1 \n",
            "0 1 0 1 0 1 0 \n",
            "1 0 1 0 1 0 1 \n",
            "0 1 0 1 0 1 0 \n",
            "1 0 1 0 1 0 1 \n",
            "0 1 0 1 0 1 0 \n"
          ]
        }
      ]
    },
    {
      "cell_type": "markdown",
      "source": [
        "**<예제 7>** 다음 두 행렬에 대하여 내적 연산을 수행한 결괏값을 출력하시오. (단, 결과의 소수점 아래는 제거한다)"
      ],
      "metadata": {
        "id": "6cJQxwQtHcHs"
      }
    },
    {
      "cell_type": "code",
      "source": [
        "arr1 = np.array([[2.1, 3.5],\n",
        "                 [4.2, 2.7],\n",
        "                 [2.3, 1.9]])\n",
        "arr2 = np.array([[5, 2, 3],\n",
        "                 [1, 3, 5]])\n",
        "# 답안 작성 (제한 시간 : 60초)\n",
        "print(np.trunc(np.dot(arr1,arr2)))"
      ],
      "metadata": {
        "id": "-4ZbjfpqH65j",
        "colab": {
          "base_uri": "https://localhost:8080/"
        },
        "outputId": "29babf82-9065-4501-e2ca-2d99f7793c9c"
      },
      "execution_count": null,
      "outputs": [
        {
          "output_type": "stream",
          "name": "stdout",
          "text": [
            "[[14. 14. 23.]\n",
            " [23. 16. 26.]\n",
            " [13. 10. 16.]]\n"
          ]
        }
      ]
    },
    {
      "cell_type": "markdown",
      "source": [
        "**<예제 8>** 조건 연산자를 활용한 Boolean 인덱싱을 이용하여 다음 배열의 원소들 중 2와 5의 배수만 추출한 결과를 오름차순 정렬하여 (2, 4) 행렬로 출력하시오.<br/>\n",
        "![화면 캡처 2024-08-21 165712.png](data:image/png;base64,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)"
      ],
      "metadata": {
        "id": "PHkOraXt6JQ6"
      }
    },
    {
      "cell_type": "code",
      "source": [
        "arr = np.array([[1, 2, 3, 4],\n",
        "                 [5, 6, 7, 8],\n",
        "                 [9, 10, 11, 12]])\n",
        "print(arr)\n",
        "# 답안 작성 (제한 시간 : 120초)\n",
        "print(np.sort(np.append(arr[arr % 2 == 0], arr[arr % 5 == 0])).reshape(2, 4))"
      ],
      "metadata": {
        "colab": {
          "base_uri": "https://localhost:8080/"
        },
        "id": "E-71yuiJ7m17",
        "outputId": "86020dc8-cca0-4df2-b69e-340721562bea"
      },
      "execution_count": null,
      "outputs": [
        {
          "output_type": "stream",
          "name": "stdout",
          "text": [
            "[[ 1  2  3  4]\n",
            " [ 5  6  7  8]\n",
            " [ 9 10 11 12]]\n",
            "[[ 2  4  5  6]\n",
            " [ 8 10 10 12]]\n"
          ]
        }
      ]
    },
    {
      "cell_type": "markdown",
      "source": [
        "**<예제 9>** 10진수 100이상 150미만 사이ㅏ에 존재하는 정수를 무작위로 추출하여 (3, 10)형태의 행렬로 만들고 행과 열을 전치한 결과를 출력하시오."
      ],
      "metadata": {
        "id": "dwxcmIQD9RnT"
      }
    },
    {
      "cell_type": "code",
      "source": [
        "# 답안 작성 (제한 시간 : 60초)\n",
        "arr = np.random.randint(low=100, high=150, size=(3, 10))\n",
        "print(np.transpose(arr))\n",
        "print(arr.T)\n",
        "# arr.T, np.transpose(arr) 둘중에 아무거나 해도 됨."
      ],
      "metadata": {
        "id": "-drT0N539OlX",
        "colab": {
          "base_uri": "https://localhost:8080/"
        },
        "outputId": "f10c64d2-b3dd-45ba-8f05-ebb6974901e4"
      },
      "execution_count": null,
      "outputs": [
        {
          "output_type": "stream",
          "name": "stdout",
          "text": [
            "[[143 106 107]\n",
            " [148 145 120]\n",
            " [102 120 111]\n",
            " [149 144 101]\n",
            " [115 130 116]\n",
            " [117 111 114]\n",
            " [124 128 141]\n",
            " [119 123 112]\n",
            " [139 144 122]\n",
            " [124 100 116]]\n",
            "[[143 106 107]\n",
            " [148 145 120]\n",
            " [102 120 111]\n",
            " [149 144 101]\n",
            " [115 130 116]\n",
            " [117 111 114]\n",
            " [124 128 141]\n",
            " [119 123 112]\n",
            " [139 144 122]\n",
            " [124 100 116]]\n"
          ]
        }
      ]
    },
    {
      "cell_type": "markdown",
      "source": [
        "**<예제 10>** 10진수 10~20 사이에 존재하는 실수형의 수를 무작위로 10000개 추출하여 100개의 구간에 그래프로 시각화하시오.(단, 무작위 실수 값은 균등한 비율로 추출해야 하며 그래프 시각화 도구는 pyplot 모듈을 사용할 것)"
      ],
      "metadata": {
        "id": "XEBaExY5-eiT"
      }
    },
    {
      "cell_type": "code",
      "source": [
        "# 답안 작성 (제한 시간 : 120초)\n",
        "import matplotlib.pyplot as plt\n",
        "randoms = 10 + np.random.rand(10000) * 10\n",
        "plt.hist(randoms, bins=100)\n",
        "plt.show()"
      ],
      "metadata": {
        "colab": {
          "base_uri": "https://localhost:8080/",
          "height": 430
        },
        "id": "wEboPtN4_MH0",
        "outputId": "1f0e06fb-51f6-4e59-c976-30146afbff2b"
      },
      "execution_count": null,
      "outputs": [
        {
          "output_type": "display_data",
          "data": {
            "text/plain": [
              "<Figure size 640x480 with 1 Axes>"
            ],
            "image/png": "[encoded data removed]"
          },
          "metadata": {}
        }
      ]
    }
  ]
}