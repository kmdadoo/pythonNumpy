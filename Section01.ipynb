{
  "nbformat": 4,
  "nbformat_minor": 0,
  "metadata": {
    "colab": {
      "provenance": [],
      "authorship_tag": "ABX9TyM/ESkH8YoivkJNtDUmkeye",
      "include_colab_link": true
    },
    "kernelspec": {
      "name": "python3",
      "display_name": "Python 3"
    },
    "language_info": {
      "name": "python"
    }
  },
  "cells": [
    {
      "cell_type": "markdown",
      "metadata": {
        "id": "view-in-github",
        "colab_type": "text"
      },
      "source": [
        "<a href=\"https://colab.research.google.com/github/kmdadoo/pythonNumpy/blob/main/Section01.ipynb\" target=\"_parent\"><img src=\"https://colab.research.google.com/assets/colab-badge.svg\" alt=\"Open In Colab\"/></a>"
      ]
    },
    {
      "cell_type": "markdown",
      "source": [
        "###**Google Colab의 기본적인 사용법**"
      ],
      "metadata": {
        "id": "JILgnBe2AixR"
      }
    },
    {
      "cell_type": "markdown",
      "source": [
        "* **텍스트 생성**\n",
        "\n",
        "    상단 '+텍스트' 버튼 클릭\n",
        "* **코드 생성**\n",
        "\n",
        "    상단 '+코드' 버튼 클릭 혹은 Ctrl + M + B\n",
        "* **셀 실행**\n",
        "\n",
        "    실행하려는 셀에서 Ctrl + Enter\n",
        "* **현재 셀 실행 후 새로운 코드 생성**\n",
        "\n",
        "    실행하려는 셀에서 Shift + Enter\n",
        "* **모든 셀 실행**\n",
        "\n",
        "    Ctrl + F9\n",
        "* **셀 삭제**\n",
        "\n",
        "    Ctrl + M + D"
      ],
      "metadata": {
        "id": "HWGXKFVZAph9"
      }
    },
    {
      "cell_type": "markdown",
      "source": [
        "###**NumPy를 설치하고 import 해봅시다**"
      ],
      "metadata": {
        "id": "Aazlwg3xAxAF"
      }
    },
    {
      "cell_type": "code",
      "source": [
        "import numpy as np"
      ],
      "metadata": {
        "id": "oYPZzgjmA0Ai"
      },
      "execution_count": null,
      "outputs": []
    },
    {
      "cell_type": "markdown",
      "source": [
        "# Section 1. N차원 배열 생성\n",
        "\n",
        "\n",
        "---\n"
      ],
      "metadata": {
        "id": "E6MHZderAH_N"
      }
    },
    {
      "cell_type": "markdown",
      "source": [
        "###**1-1. N차원 배열(ndarray) 생성하기**"
      ],
      "metadata": {
        "id": "Zb85EK4TCBNQ"
      }
    },
    {
      "cell_type": "code",
      "source": [
        "# 1차원 배열 생성하기\n",
        "arr = np.array([1, 2, 3])\n",
        "print(arr)\n",
        "\n",
        "# 2차원 배열 생성하기\n",
        "arr = np.array([[1, 2, 3],\n",
        "               [4, 5, 6]])\n",
        "print(arr)"
      ],
      "metadata": {
        "colab": {
          "base_uri": "https://localhost:8080/"
        },
        "id": "m7c2-BHeAyiy",
        "outputId": "9256051a-22a0-40b2-a03b-39713997b1fe"
      },
      "execution_count": null,
      "outputs": [
        {
          "output_type": "stream",
          "name": "stdout",
          "text": [
            "[1 2 3]\n",
            "[[1 2 3]\n",
            " [4 5 6]]\n"
          ]
        }
      ]
    },
    {
      "cell_type": "code",
      "source": [
        "# 리스트\n",
        "type([1, 2, 3])"
      ],
      "metadata": {
        "colab": {
          "base_uri": "https://localhost:8080/"
        },
        "id": "2Iw0HtrmDK5O",
        "outputId": "685d9341-286c-4caa-d071-86b19dcb0acb"
      },
      "execution_count": null,
      "outputs": [
        {
          "output_type": "execute_result",
          "data": {
            "text/plain": [
              "list"
            ]
          },
          "metadata": {},
          "execution_count": 12
        }
      ]
    },
    {
      "cell_type": "code",
      "source": [
        "# 넘파이 어래이\n",
        "type(arr)\n",
        "# 이두가지를 혼동하지 말것"
      ],
      "metadata": {
        "colab": {
          "base_uri": "https://localhost:8080/"
        },
        "id": "K2Q8cqt_DmBV",
        "outputId": "4ba31518-2243-42b3-ab8a-1572114ee76e"
      },
      "execution_count": null,
      "outputs": [
        {
          "output_type": "execute_result",
          "data": {
            "text/plain": [
              "numpy.ndarray"
            ]
          },
          "metadata": {},
          "execution_count": 13
        }
      ]
    },
    {
      "cell_type": "code",
      "source": [
        "# list나 tuple로 N차원 배열 생성하기\n",
        "tpl = (4, 5, 6)\n",
        "arr = np.array(tpl)\n",
        "print(arr)\n",
        "\n",
        "lst = [1, 2, 3]\n",
        "arr = np.array(lst)\n",
        "print(arr)\n",
        "\n",
        "lst = [[1, 2, 3], [4, 5, 6]]\n",
        "arr = np.array(lst)\n",
        "print(arr)"
      ],
      "metadata": {
        "colab": {
          "base_uri": "https://localhost:8080/"
        },
        "id": "VqArk_IPCA2Y",
        "outputId": "2cd6923e-b80c-44f5-bea0-f13d795b13e3"
      },
      "execution_count": null,
      "outputs": [
        {
          "output_type": "stream",
          "name": "stdout",
          "text": [
            "[4 5 6]\n",
            "[1 2 3]\n",
            "[[1 2 3]\n",
            " [4 5 6]]\n"
          ]
        }
      ]
    },
    {
      "cell_type": "code",
      "execution_count": null,
      "metadata": {
        "colab": {
          "base_uri": "https://localhost:8080/"
        },
        "id": "V9H8_-Xg_-Y3",
        "outputId": "ca5f4b21-1644-49d0-f2a9-ad4a75a1d527"
      },
      "outputs": [
        {
          "output_type": "stream",
          "name": "stdout",
          "text": [
            "(3,) (2, 3)\n",
            "1 2\n",
            "3 6\n"
          ]
        }
      ],
      "source": [
        "# shape 확인하기 - 배열의 형태\n",
        "arr1 = np.array([1, 2, 3])\n",
        "arr2 = np.array([[1, 2, 3], [4, 5, 6]])\n",
        "\n",
        "print(arr1.shape, arr2.shape)\n",
        "\n",
        "# ndim 확인하기 - 차원 표시\n",
        "print(arr1.ndim, arr2.ndim)\n",
        "\n",
        "# size 확인하기 - 크기\n",
        "print(arr1.size, arr2.size)"
      ]
    },
    {
      "cell_type": "markdown",
      "metadata": {
        "id": "QXY0ge0cca4B"
      },
      "source": [
        "###**1-2. N차원 배열의 데이터 타입**"
      ]
    },
    {
      "cell_type": "code",
      "source": [
        "# 배열의 데이터 타입을 int로 지정하기\n",
        "arr = np.array([1.1, 2.1, 3.1],dtype=np.int32) # 뒤에 실수가 클수록 큰수를 나타낼수 있음.\n",
        "print(arr, arr.dtype)\n",
        "\n",
        "# 배열의 데이터 타입을 float으로 지정하기\n",
        "arr = np.array([1, 2, 3],dtype=np.float32) # 뒤에 실수가 클수록 큰수를 나타낼수 있음.\n",
        "print(arr, arr.dtype)\n",
        "\n",
        "# 배열의 데이터 타입을 bool로 지정하기\n",
        "arr = np.array([0, 1, 1],dtype=np.bool_)\n",
        "print(arr, arr.dtype)\n",
        "\n",
        "# 배열의 데이터 타입을 string으로 지정하기\n",
        "arr = np.array([0, 1, 1],dtype=np.string_)\n",
        "print(arr, arr.dtype)\n",
        "\n",
        "# 배열의 데이터 타입 출력하기 - dtype\n",
        "arr = np.array([0, 1, 2, 3])\n",
        "print(arr, arr.dtype)\n",
        "\n",
        "arr = arr.astype(np.float32) # 실수형으로 변경\n",
        "print(arr, arr.dtype)\n"
      ],
      "metadata": {
        "colab": {
          "base_uri": "https://localhost:8080/"
        },
        "id": "6cmnYei5GhCq",
        "outputId": "0d587327-a886-4e9b-cf11-28369a499309"
      },
      "execution_count": null,
      "outputs": [
        {
          "output_type": "stream",
          "name": "stdout",
          "text": [
            "[1 2 3] int32\n",
            "[1. 2. 3.] float32\n",
            "[False  True  True] bool\n",
            "[b'0' b'1' b'1'] |S1\n",
            "[0 1 2 3] int64\n",
            "[0. 1. 2. 3.] float32\n"
          ]
        }
      ]
    },
    {
      "cell_type": "code",
      "source": [
        "# 데이터 타입이 혼재하는 경우\n",
        "arr = np.array([1, 2, 3.4, \"64\"], dtype=int) # \"64, 문자열\" 이렇게 뭊자열이 들어가면 에러남\n",
        "print(arr, arr.dtype)"
      ],
      "metadata": {
        "colab": {
          "base_uri": "https://localhost:8080/"
        },
        "id": "43HjK_gwKSjP",
        "outputId": "bc2b08d5-a782-48ae-c896-28a9e4a83f0d"
      },
      "execution_count": null,
      "outputs": [
        {
          "output_type": "stream",
          "name": "stdout",
          "text": [
            "[ 1  2  3 64] int64\n"
          ]
        }
      ]
    },
    {
      "cell_type": "markdown",
      "metadata": {
        "id": "cXo22LP2nFWM"
      },
      "source": [
        "###**1-3. 정해진 형식의 N차원 배열 생성하기**"
      ]
    },
    {
      "cell_type": "code",
      "metadata": {
        "id": "j1iKcUSWu5U4",
        "colab": {
          "base_uri": "https://localhost:8080/"
        },
        "outputId": "6e1995c3-4f53-4842-e839-bfddb70eb3ec"
      },
      "source": [
        "# 모든 요소들이 0으로 초기화된 N차원 배열 생성하기 - np.zeros()\n",
        "arr = np.zeros([2, 2])\n",
        "print(arr)\n",
        "\n",
        "# 모든 요소들이 1로 초기화된 N차원 배열 생성하기 - np.ones()\n",
        "arr = np.ones([3, 5])\n",
        "print(arr)\n",
        "\n",
        "# 모든 요소들이 지정된 fill_value로 초기화된 N차원 배열 생성하기 - np.full()\n",
        "arr = np.full((2, 3), 5)  # fuu((함수인자), 필밸류) 5로 채워지는 배열\n",
        "print(arr)\n",
        "\n",
        "# NxN 또는 (NXM) shape를 가진 대각 원소가 1인 행렬 생성하기 - np.eye()\n",
        "arr = np.eye(3, 4, k=1)  # k값의 의해 대각선 위치가 달라짐. 기본값은 0\n",
        "print(arr)\n",
        "\n",
        "arr = np.eye(3)  # 하나만 주어질때는 정방향 행렬이 만들어짐\n",
        "print(arr)"
      ],
      "execution_count": null,
      "outputs": [
        {
          "output_type": "stream",
          "name": "stdout",
          "text": [
            "[[0. 0.]\n",
            " [0. 0.]]\n",
            "[[1. 1. 1. 1. 1.]\n",
            " [1. 1. 1. 1. 1.]\n",
            " [1. 1. 1. 1. 1.]]\n",
            "[[5 5 5]\n",
            " [5 5 5]]\n",
            "[[0. 1. 0. 0.]\n",
            " [0. 0. 1. 0.]\n",
            " [0. 0. 0. 1.]]\n",
            "[[1. 0. 0.]\n",
            " [0. 1. 0.]\n",
            " [0. 0. 1.]]\n"
          ]
        }
      ]
    },
    {
      "cell_type": "code",
      "metadata": {
        "id": "JwJ3L3ReyhbE",
        "colab": {
          "base_uri": "https://localhost:8080/"
        },
        "outputId": "3bbe5069-9eb6-478d-a192-d4c56f985774"
      },
      "source": [
        "arr = np.array([[1,2,3],\n",
        "                [4,5,6]])\n",
        "\n",
        "# 모든 요소들이 0으로 초기화된 N차원 배열로 변형하기 - zeros_like()\n",
        "arr_z = np.zeros_like(arr)\n",
        "print(arr_z)\n",
        "\n",
        "# 모든 요소들이 1로 초기화된 N차원 배열로 변형하기 - ones_like()\n",
        "arr_o = np.ones_like(arr)\n",
        "print(arr_o)\n",
        "\n",
        "# 모든 요소들이 지정된 fill_value로 초기화된 N차원 배열로 변형하기 - full_like()\n",
        "arr_f = np.full_like(arr, 9)\n",
        "print(arr_f)"
      ],
      "execution_count": null,
      "outputs": [
        {
          "output_type": "stream",
          "name": "stdout",
          "text": [
            "[[0 0 0]\n",
            " [0 0 0]]\n",
            "[[1 1 1]\n",
            " [1 1 1]]\n",
            "[[9 9 9]\n",
            " [9 9 9]]\n"
          ]
        }
      ]
    },
    {
      "cell_type": "markdown",
      "metadata": {
        "id": "5ZV_Z7NgnG0T"
      },
      "source": [
        "###**1-4. 특정 범위의 값을 가지는 N차원 배열 생성하기**"
      ]
    },
    {
      "cell_type": "code",
      "source": [
        "lst = list(range(0, 9, 2))\n",
        "print(lst)"
      ],
      "metadata": {
        "colab": {
          "base_uri": "https://localhost:8080/"
        },
        "id": "tLZkyGALPIcy",
        "outputId": "266956a6-383e-4f90-a8a7-4ee6dc83f3dc"
      },
      "execution_count": null,
      "outputs": [
        {
          "output_type": "stream",
          "name": "stdout",
          "text": [
            "[0, 2, 4, 6, 8]\n"
          ]
        }
      ]
    },
    {
      "cell_type": "code",
      "metadata": {
        "id": "PWyHpz6V1dKY",
        "colab": {
          "base_uri": "https://localhost:8080/"
        },
        "outputId": "4d70570c-88d1-47a0-aa93-0aacc7316f21"
      },
      "source": [
        "# 특정 범위의 값을 가지는 N차원 배열을 생성하는 함수 3가지 작성하기\n",
        "arr = np.arange(9)\n",
        "print(arr)\n",
        "\n",
        "arr = np.arange(3, 12)\n",
        "print(arr)\n",
        "\n",
        "arr = np.arange(3, 13, 3)\n",
        "print(arr)\n",
        "\n",
        "arr = np.arange(stop=9, step=2, start=0) # 인자들을 직접 입력\n",
        "print(arr)\n",
        "\n",
        "# np.linspace()\n",
        "arr = np.linspace(0, 100, 250) # stop 값까지 출력, 마지막은 가지수\n",
        "print(arr)"
      ],
      "execution_count": null,
      "outputs": [
        {
          "output_type": "stream",
          "name": "stdout",
          "text": [
            "[0 1 2 3 4 5 6 7 8]\n",
            "[ 3  4  5  6  7  8  9 10 11]\n",
            "[ 3  6  9 12]\n",
            "[0 2 4 6 8]\n",
            "[  0.           0.40160643   0.80321285   1.20481928   1.6064257\n",
            "   2.00803213   2.40963855   2.81124498   3.21285141   3.61445783\n",
            "   4.01606426   4.41767068   4.81927711   5.22088353   5.62248996\n",
            "   6.02409639   6.42570281   6.82730924   7.22891566   7.63052209\n",
            "   8.03212851   8.43373494   8.83534137   9.23694779   9.63855422\n",
            "  10.04016064  10.44176707  10.84337349  11.24497992  11.64658635\n",
            "  12.04819277  12.4497992   12.85140562  13.25301205  13.65461847\n",
            "  14.0562249   14.45783133  14.85943775  15.26104418  15.6626506\n",
            "  16.06425703  16.46586345  16.86746988  17.26907631  17.67068273\n",
            "  18.07228916  18.47389558  18.87550201  19.27710843  19.67871486\n",
            "  20.08032129  20.48192771  20.88353414  21.28514056  21.68674699\n",
            "  22.08835341  22.48995984  22.89156627  23.29317269  23.69477912\n",
            "  24.09638554  24.49799197  24.89959839  25.30120482  25.70281124\n",
            "  26.10441767  26.5060241   26.90763052  27.30923695  27.71084337\n",
            "  28.1124498   28.51405622  28.91566265  29.31726908  29.7188755\n",
            "  30.12048193  30.52208835  30.92369478  31.3253012   31.72690763\n",
            "  32.12851406  32.53012048  32.93172691  33.33333333  33.73493976\n",
            "  34.13654618  34.53815261  34.93975904  35.34136546  35.74297189\n",
            "  36.14457831  36.54618474  36.94779116  37.34939759  37.75100402\n",
            "  38.15261044  38.55421687  38.95582329  39.35742972  39.75903614\n",
            "  40.16064257  40.562249    40.96385542  41.36546185  41.76706827\n",
            "  42.1686747   42.57028112  42.97188755  43.37349398  43.7751004\n",
            "  44.17670683  44.57831325  44.97991968  45.3815261   45.78313253\n",
            "  46.18473896  46.58634538  46.98795181  47.38955823  47.79116466\n",
            "  48.19277108  48.59437751  48.99598394  49.39759036  49.79919679\n",
            "  50.20080321  50.60240964  51.00401606  51.40562249  51.80722892\n",
            "  52.20883534  52.61044177  53.01204819  53.41365462  53.81526104\n",
            "  54.21686747  54.6184739   55.02008032  55.42168675  55.82329317\n",
            "  56.2248996   56.62650602  57.02811245  57.42971888  57.8313253\n",
            "  58.23293173  58.63453815  59.03614458  59.437751    59.83935743\n",
            "  60.24096386  60.64257028  61.04417671  61.44578313  61.84738956\n",
            "  62.24899598  62.65060241  63.05220884  63.45381526  63.85542169\n",
            "  64.25702811  64.65863454  65.06024096  65.46184739  65.86345382\n",
            "  66.26506024  66.66666667  67.06827309  67.46987952  67.87148594\n",
            "  68.27309237  68.6746988   69.07630522  69.47791165  69.87951807\n",
            "  70.2811245   70.68273092  71.08433735  71.48594378  71.8875502\n",
            "  72.28915663  72.69076305  73.09236948  73.4939759   73.89558233\n",
            "  74.29718876  74.69879518  75.10040161  75.50200803  75.90361446\n",
            "  76.30522088  76.70682731  77.10843373  77.51004016  77.91164659\n",
            "  78.31325301  78.71485944  79.11646586  79.51807229  79.91967871\n",
            "  80.32128514  80.72289157  81.12449799  81.52610442  81.92771084\n",
            "  82.32931727  82.73092369  83.13253012  83.53413655  83.93574297\n",
            "  84.3373494   84.73895582  85.14056225  85.54216867  85.9437751\n",
            "  86.34538153  86.74698795  87.14859438  87.5502008   87.95180723\n",
            "  88.35341365  88.75502008  89.15662651  89.55823293  89.95983936\n",
            "  90.36144578  90.76305221  91.16465863  91.56626506  91.96787149\n",
            "  92.36947791  92.77108434  93.17269076  93.57429719  93.97590361\n",
            "  94.37751004  94.77911647  95.18072289  95.58232932  95.98393574\n",
            "  96.38554217  96.78714859  97.18875502  97.59036145  97.99196787\n",
            "  98.3935743   98.79518072  99.19678715  99.59839357 100.        ]\n"
          ]
        }
      ]
    },
    {
      "cell_type": "code",
      "source": [
        "# np.logspace()\n",
        "arr = np.linspace(1, 10, 10)\n",
        "print(arr, \"\\n\\n\")\n",
        "\n",
        "arr = np.logspace(1, 10, 10, base=2) # 2의 제곱승\n",
        "print(arr)\n",
        "\n",
        "arr = np.logspace(1, 10, 10) # 10의 제곱승. 사용로그\n",
        "print(arr)"
      ],
      "metadata": {
        "colab": {
          "base_uri": "https://localhost:8080/"
        },
        "id": "rbL4mhWhQv-t",
        "outputId": "855770cd-51d3-43fd-921a-aeb929d3f61e"
      },
      "execution_count": null,
      "outputs": [
        {
          "output_type": "stream",
          "name": "stdout",
          "text": [
            "[ 1.  2.  3.  4.  5.  6.  7.  8.  9. 10.] \n",
            "\n",
            "\n",
            "[   2.    4.    8.   16.   32.   64.  128.  256.  512. 1024.]\n",
            "[1.e+01 1.e+02 1.e+03 1.e+04 1.e+05 1.e+06 1.e+07 1.e+08 1.e+09 1.e+10]\n"
          ]
        }
      ]
    },
    {
      "cell_type": "markdown",
      "metadata": {
        "id": "LSXPPL9snHGJ"
      },
      "source": [
        "###**1-5. 난수로 이루어진 N차원 배열 생성하기**"
      ]
    },
    {
      "cell_type": "code",
      "metadata": {
        "id": "fzJtmBpbPujM"
      },
      "source": [
        "# 데이터 시각화 라이브러리 matplotlib을 설치하고 import 하기\n",
        "# 주피터노트북에서 설치하기 !pip install matplotlib\n",
        "import  matplotlib.pyplot as plt"
      ],
      "execution_count": 82,
      "outputs": []
    },
    {
      "cell_type": "code",
      "metadata": {
        "id": "9OoTUtTFMB_h",
        "colab": {
          "base_uri": "https://localhost:8080/"
        },
        "outputId": "5ea7bab2-2bda-4741-8486-d50955a315bc"
      },
      "source": [
        "# 정규 분포로 표본을 추출하는 난수 생성 함수 작성하기 - np.random.normal()\n",
        "arr = np.random.normal(0, 1, (2,3))\n",
        "print(arr)"
      ],
      "execution_count": null,
      "outputs": [
        {
          "output_type": "stream",
          "name": "stdout",
          "text": [
            "[[ 0.58357216 -0.61810483 -1.36809918]\n",
            " [-0.01626718  0.90933206 -0.991145  ]]\n"
          ]
        }
      ]
    },
    {
      "cell_type": "code",
      "source": [
        "# random 모듈에 존재하는 함수를 활용하여 표본을 추출하고 데이터를 시각화하기\n",
        "\n",
        "arr = np.random.normal(0, 1, 1000)  # 표본 개수를 늘리면(100000) 확실하게 알 수 있음.\n",
        "plt.hist(arr, bins =100)  # bins : 난수를 몇개의 구간으로 구분에서 보여줄지 정하는 것\n",
        "plt.show()\n",
        "# 1000개의 난수가 100개의 구을 기준으로 구분해서 보여줌"
      ],
      "metadata": {
        "colab": {
          "base_uri": "https://localhost:8080/",
          "height": 430
        },
        "id": "Jq_jvNeZSjr4",
        "outputId": "b164fb32-cab0-4bab-c337-44e3739d020e"
      },
      "execution_count": null,
      "outputs": [
        {
          "output_type": "display_data",
          "data": {
            "text/plain": [
              "<Figure size 640x480 with 1 Axes>"
            ],
            "image/png": "[encoded data removed]"
          },
          "metadata": {}
        }
      ]
    },
    {
      "cell_type": "code",
      "source": [
        "# 균등 분포로 표본을 추출하는 난수 생성 함수 작성하기 - random.rand()\n",
        "arr = np.random.rand(1000)  # 표본 개수를 인자로\n",
        "plt.hist(arr, bins =100)  # bins : 난수를 몇개의 구간으로 구분에서 보여줄지 정하는 것\n",
        "plt.show()\n",
        "# 난수가 균등하게 분포되는 것을 볼수 있음."
      ],
      "metadata": {
        "colab": {
          "base_uri": "https://localhost:8080/",
          "height": 430
        },
        "id": "Ox3KJN1ASmjq",
        "outputId": "d1a8c50a-9176-4acf-e834-2ab0fb5a8c7a"
      },
      "execution_count": null,
      "outputs": [
        {
          "output_type": "display_data",
          "data": {
            "text/plain": [
              "<Figure size 640x480 with 1 Axes>"
            ],
            "image/png": "[encoded data removed]"
          },
          "metadata": {}
        }
      ]
    },
    {
      "cell_type": "code",
      "source": [
        "# randn() : -1 부터 1사이의 값을 정규분포 또는 가오시안 분포의 표본을 추출하는 함수\n",
        "arr = np.random.randn(1000)\n",
        "plt.hist(arr, bins =100)\n",
        "plt.show()\n",
        "# 난수를 정규분포 형태로 보여줌"
      ],
      "metadata": {
        "colab": {
          "base_uri": "https://localhost:8080/",
          "height": 430
        },
        "id": "d0uKxTkpVP_s",
        "outputId": "cab6e9aa-203c-4fac-8d3e-a5c7645a1bca"
      },
      "execution_count": null,
      "outputs": [
        {
          "output_type": "display_data",
          "data": {
            "text/plain": [
              "<Figure size 640x480 with 1 Axes>"
            ],
            "image/png": "[encoded data removed]"
          },
          "metadata": {}
        }
      ]
    },
    {
      "cell_type": "code",
      "source": [
        "# 랜덤한 정수를 생성하는  함수 작성하기 - randint()\n",
        "arr = np.random.randint(low=1, high=5, size=10)  # 로우값부터 하이값 사이의 값을 배열로 출력\n",
        "print(arr)\n",
        "\n",
        "arr = np.random.randint(low=1, high=5, size=(3, 4))  # 3X4 행력 출력\n",
        "print(arr)\n",
        "\n",
        "arr = np.random.randint(5)  # 0부터 5사이의 하나의 값이 출력\n",
        "print(arr)"
      ],
      "metadata": {
        "colab": {
          "base_uri": "https://localhost:8080/"
        },
        "id": "pAWm4MWsT8u0",
        "outputId": "a79b6913-477f-4d43-e2d1-87b99c3c239c"
      },
      "execution_count": null,
      "outputs": [
        {
          "output_type": "stream",
          "name": "stdout",
          "text": [
            "[3 1 1 3 3 1 3 4 2 1]\n",
            "[[2 4 3 4]\n",
            " [3 3 3 3]\n",
            " [4 3 2 1]]\n",
            "2\n"
          ]
        }
      ]
    },
    {
      "cell_type": "code",
      "source": [
        "# 히스토그램을 이용한 출력\n",
        "arr = np.random.randint(100, 200, 1000)\n",
        "plt.hist(arr, bins =100)\n",
        "plt.show()"
      ],
      "metadata": {
        "colab": {
          "base_uri": "https://localhost:8080/",
          "height": 430
        },
        "id": "GF2i1kGcVEbb",
        "outputId": "806b58d7-8f24-4fb5-9e14-1e7ee066fee0"
      },
      "execution_count": null,
      "outputs": [
        {
          "output_type": "display_data",
          "data": {
            "text/plain": [
              "<Figure size 640x480 with 1 Axes>"
            ],
            "image/png": "[encoded data removed]"
          },
          "metadata": {}
        }
      ]
    },
    {
      "cell_type": "markdown",
      "metadata": {
        "id": "jmIo-qNCXNgG"
      },
      "source": [
        "###**1-6. 시드(Seed)값을 통한 난수 생성 제어**"
      ]
    },
    {
      "cell_type": "code",
      "metadata": {
        "id": "ho3sdP6aXhou"
      },
      "source": [
        "# 시드 값을 이용해 난수의 발생 지점을 고정하기\n"
      ],
      "execution_count": null,
      "outputs": []
    }
  ]
}